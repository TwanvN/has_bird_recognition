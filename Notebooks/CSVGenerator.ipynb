{
 "cells": [
  {
   "cell_type": "code",
   "execution_count": 4,
   "id": "2147c335",
   "metadata": {},
   "outputs": [],
   "source": [
    "import os\n",
    "from pathlib import Path\n",
    "import csv"
   ]
  },
  {
   "cell_type": "code",
   "execution_count": 5,
   "id": "fafc71f8",
   "metadata": {},
   "outputs": [],
   "source": [
    "header = ['recording_id', 'species_id']"
   ]
  },
  {
   "cell_type": "code",
   "execution_count": 6,
   "id": "83cd9736",
   "metadata": {},
   "outputs": [
    {
     "name": "stdout",
     "output_type": "stream",
     "text": [
      "['/home/birdo/MachineLearning/clean-audio/Anas Platyrhynchos Linnaeus', '/home/birdo/MachineLearning/clean-audio/Phylloscopus Collybita', '/home/birdo/MachineLearning/clean-audio/Parus Major Linnaeus', '/home/birdo/MachineLearning/clean-audio/Columba Palumbus Linnaeus', '/home/birdo/MachineLearning/clean-audio/Passer Domesticus', '/home/birdo/MachineLearning/clean-audio/Turdus Merula Linnaeus', '/home/birdo/MachineLearning/clean-audio/Troglodytes Troglodytes', '/home/birdo/MachineLearning/clean-audio/Phylloscopus Trochilus', '/home/birdo/MachineLearning/clean-audio/Fringilla Coelebs Linnaeus', '/home/birdo/MachineLearning/clean-audio/Sturnus Vulgaris Linnaeus', '/home/birdo/MachineLearning/clean-audio/no bird']\n"
     ]
    }
   ],
   "source": [
    "folder_path = \"/home/birdo/MachineLearning/clean-audio/\"\n",
    "csv_path = \"/home/birdo/MachineLearning/Data/bird_sounds.csv\"\n",
    "\n",
    "# subfolders = [ f.path for f in os.scandir(folder_path) if f.is_dir() ]\n",
    "\n",
    "subfolders = ['Anas Platyrhynchos Linnaeus', 'Phylloscopus Collybita', 'Parus Major Linnaeus', 'Columba Palumbus Linnaeus', 'Passer Domesticus', 'Turdus Merula Linnaeus', 'Troglodytes Troglodytes', 'Phylloscopus Trochilus', 'Fringilla Coelebs Linnaeus', 'Sturnus Vulgaris Linnaeus', 'no bird']\n",
    "# append folder path to subfolders\n",
    "subfolders = [folder_path + subfolder for subfolder in subfolders]\n",
    "\n",
    "\n",
    "print(subfolders)\n",
    "\n",
    "with open(csv_path, 'w', encoding='UTF8') as f:\n",
    "    writer = csv.writer(f)\n",
    "    writer.writerow(header)\n",
    "\n",
    "    for folder in subfolders:\n",
    "        species_id = folder.rsplit('/', 1)[-1]\n",
    "        #print(folder)\n",
    "    \n",
    "        files = [ f.path for f in os.scandir(folder) if f.is_file() ]\n",
    "    \n",
    "        for file in files:\n",
    "            recording_id = file.rsplit('/', 1)[-1]\n",
    "            \n",
    "            data = [recording_id, species_id]\n",
    "            #print(data)\n",
    "            writer.writerow(data)"
   ]
  },
  {
   "cell_type": "code",
   "execution_count": null,
   "id": "b8dd2969",
   "metadata": {},
   "outputs": [],
   "source": []
  }
 ],
 "metadata": {
  "kernelspec": {
   "display_name": "Python 3 (ipykernel)",
   "language": "python",
   "name": "python3"
  },
  "language_info": {
   "codemirror_mode": {
    "name": "ipython",
    "version": 3
   },
   "file_extension": ".py",
   "mimetype": "text/x-python",
   "name": "python",
   "nbconvert_exporter": "python",
   "pygments_lexer": "ipython3",
   "version": "3.11.2"
  }
 },
 "nbformat": 4,
 "nbformat_minor": 5
}
