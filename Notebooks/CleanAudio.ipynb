{
 "cells": [
  {
   "attachments": {},
   "cell_type": "markdown",
   "metadata": {},
   "source": [
    "# Audio Cleaner and splitter"
   ]
  },
  {
   "cell_type": "code",
   "execution_count": 1,
   "metadata": {},
   "outputs": [],
   "source": [
    "import os\n",
    "# os.environ['LIBROSA_CACHE_DIR'] = '/tmp/librosa_cache'\n",
    "# os.environ['LIBROSA_CACHE_LEVEL'] = '30'\n",
    "\n",
    "from glob import glob\n",
    "from IPython.display import Audio  # To play sound in the notebook\n",
    "from scipy.io import wavfile\n",
    "from scipy.signal import butter, filtfilt\n",
    "import librosa\n",
    "import matplotlib.pyplot as plt\n",
    "import numpy as np\n",
    "from tqdm.notebook import tqdm\n",
    "import asyncio\n",
    "import concurrent.futures\n",
    "import multiprocessing\n",
    "import functools\n",
    "import warnings\n",
    "\n",
    "# disable librosa warnings\n",
    "warnings.filterwarnings(\"ignore\", category=UserWarning)\n",
    "warnings.filterwarnings(\"ignore\", category=FutureWarning)\n"
   ]
  },
  {
   "cell_type": "code",
   "execution_count": 2,
   "metadata": {},
   "outputs": [],
   "source": [
    "# Load the audio file\n",
    "# filename = '/home/birdo/MachineLearning/Vogelgeluiden/Turdus Merula Linnaeus/geluiden/Turdus_merula_Tre_N0110_06_short.mp3'\n",
    "# y, sr = librosa.load(filename, sr=None)\n",
    "\n",
    "# # Make some modifications to the audio data\n",
    "# # For example, let's increase the volume by 3 dB\n",
    "# y_modified = librosa.effects.percussive(y, margin=3.0)\n",
    "\n",
    "# # Save the modified audio data to a new file\n",
    "# output_filename = '/home/birdo/MachineLearning/clean-audio/'+'output.wav'\n",
    "# wavfile.write(output_filename, sr, y_modified[:sr*2])\n"
   ]
  },
  {
   "cell_type": "code",
   "execution_count": 3,
   "metadata": {},
   "outputs": [],
   "source": [
    "def visualize_audio_waveform(audio, sample_rate, display=True):\n",
    "    plt.figure(figsize=(15, 5))\n",
    "    librosa.display.waveshow(audio, sr=sample_rate)\n",
    "    if display:\n",
    "        plt.show()\n",
    "\n",
    "\n",
    "def find_closest_start(target, chunks):\n",
    "    closest = chunks[0][0]\n",
    "    for chunk in chunks:\n",
    "        if abs(chunk[0]-target) < abs(closest-target):\n",
    "            closest = chunk[0]\n",
    "    return closest\n",
    "\n",
    "\n",
    "def find_closest_end(target, chunks):\n",
    "    closest = chunks[len(chunks)-1][1]\n",
    "    for chunk in chunks:\n",
    "        if abs(chunk[1]-target) < abs(closest-target):\n",
    "            closest = chunk[1]\n",
    "    return closest\n",
    "\n",
    "\n",
    "def filter_audio(_audio, _sr):\n",
    "    low_cut = 1000  # Only allow frequencies above 1000 Hz\n",
    "    high_cut = 7000  # Only allow frequencies below 7000 Hz\n",
    "    b, a = butter(5, [low_cut / (_sr / 2.0),\n",
    "                  high_cut / (_sr / 2.0)], btype='band')\n",
    "    filtered = filtfilt(b, a, _audio)\n",
    "\n",
    "    return filtered  # * filtered\n",
    "\n",
    "\n",
    "def get_audio_parts(_audio: np.ndarray, _sr, _audio_length, length=10):\n",
    "    part_count = int(_audio_length/length)\n",
    "    # print(part_count)\n",
    "    audio_parts = []\n",
    "    part_start = 0\n",
    "    part_end = 0\n",
    "\n",
    "    for i in range(part_count):\n",
    "        part_start = i*length\n",
    "        part_end = part_start + length\n",
    "        audio_parts.append(_audio[int(part_start*_sr):int(part_end*_sr)])\n",
    "\n",
    "    # add last part\n",
    "    part_start = part_end\n",
    "    part_end = _audio_length\n",
    "    if part_end - part_start > 2:\n",
    "        audio_parts.append(_audio[int(part_start*_sr):int(part_end*_sr)])\n",
    "\n",
    "    return audio_parts\n",
    "\n",
    "\n",
    "def write_audio_parts(audio_parts, path, _sr):\n",
    "    for i in range(len(audio_parts)):\n",
    "        filepath = f\"{path}_part_{i}.wav\"\n",
    "        wavfile.write(filepath, _sr, audio_parts[i])\n",
    "    # print(\"done writing audio parts\")\n",
    "\n",
    "async def split_and_write_audio(bird_sound,clean_dir,bird_name,executor=None):\n",
    "    # Remove extension from audio file name\n",
    "    new_bird_sound = ''.join(bird_sound.split('.')[:-1])\n",
    "    # Create directory if it doesn't exist\n",
    "    bird_dir = os.path.join(clean_dir, bird_name)\n",
    "    os.makedirs(bird_dir, exist_ok=True)\n",
    "    # Create new audio file path\n",
    "    new_audio_path = os.path.join(bird_dir, new_bird_sound.split('/')[-1])\n",
    "\n",
    "    filepath = f\"{new_audio_path}_part_{0}.wav\"\n",
    "    if os.path.exists(filepath):\n",
    "        return f\"Skipping {filepath}\"\n",
    "    \n",
    "    # Load audio\n",
    "    loop = asyncio.get_event_loop()\n",
    "    audio, sr = await loop.run_in_executor(executor,functools.partial(librosa.load, bird_sound, sr=16000, mono=True))\n",
    "    audio_length = librosa.get_duration(y=audio, sr=sr)\n",
    "    audio_parts = None\n",
    "\n",
    "    # Split audio into parts if it's longer than 10 seconds\n",
    "    if audio_length <= 10:\n",
    "        audio_parts = [audio]\n",
    "    else:\n",
    "        audio_parts = get_audio_parts(audio, sr, audio_length)\n",
    "\n",
    "    # Write audio parts to new audio file\n",
    "    await loop.run_in_executor(executor,functools.partial(write_audio_parts,audio_parts, new_audio_path, sr))\n",
    "    return \"\"\n"
   ]
  },
  {
   "cell_type": "code",
   "execution_count": 4,
   "metadata": {},
   "outputs": [
    {
     "data": {
      "application/vnd.jupyter.widget-view+json": {
       "model_id": "379c66ac58f44938950ca5def46f29fc",
       "version_major": 2,
       "version_minor": 0
      },
      "text/plain": [
       "Splitting Turdus Merula Linnaeus audio files:   0%|          | 0/2509 [00:00<?, ?it/s]"
      ]
     },
     "metadata": {},
     "output_type": "display_data"
    },
    {
     "data": {
      "application/vnd.jupyter.widget-view+json": {
       "model_id": "decbe4ef379f41f8a2021713cf51651b",
       "version_major": 2,
       "version_minor": 0
      },
      "text/plain": [
       "Splitting Anas Platyrhynchos Linnaeus audio files:   0%|          | 0/1380 [00:00<?, ?it/s]"
      ]
     },
     "metadata": {},
     "output_type": "display_data"
    },
    {
     "data": {
      "application/vnd.jupyter.widget-view+json": {
       "model_id": "6e590fd29dd94082b1b74f710c2dc268",
       "version_major": 2,
       "version_minor": 0
      },
      "text/plain": [
       "Splitting Phylloscopus Trochilus audio files:   0%|          | 0/1911 [00:00<?, ?it/s]"
      ]
     },
     "metadata": {},
     "output_type": "display_data"
    },
    {
     "data": {
      "application/vnd.jupyter.widget-view+json": {
       "model_id": "70a7ed5b41264fe2af51455cb171d00b",
       "version_major": 2,
       "version_minor": 0
      },
      "text/plain": [
       "Splitting no bird audio files:   0%|          | 0/6695 [00:00<?, ?it/s]"
      ]
     },
     "metadata": {},
     "output_type": "display_data"
    },
    {
     "data": {
      "application/vnd.jupyter.widget-view+json": {
       "model_id": "0e52298e59c84a588847868e5c576a1e",
       "version_major": 2,
       "version_minor": 0
      },
      "text/plain": [
       "Splitting Sturnus Vulgaris Linnaeus audio files:   0%|          | 0/2057 [00:00<?, ?it/s]"
      ]
     },
     "metadata": {},
     "output_type": "display_data"
    },
    {
     "data": {
      "application/vnd.jupyter.widget-view+json": {
       "model_id": "a1f5aefaaffa4b048ea1fec58a2f46b6",
       "version_major": 2,
       "version_minor": 0
      },
      "text/plain": [
       "Splitting Phylloscopus Collybita audio files:   0%|          | 0/2179 [00:00<?, ?it/s]"
      ]
     },
     "metadata": {},
     "output_type": "display_data"
    },
    {
     "data": {
      "application/vnd.jupyter.widget-view+json": {
       "model_id": "17e553be17504e40b265718297145434",
       "version_major": 2,
       "version_minor": 0
      },
      "text/plain": [
       "Splitting Parus Major Linnaeus audio files:   0%|          | 0/1880 [00:00<?, ?it/s]"
      ]
     },
     "metadata": {},
     "output_type": "display_data"
    },
    {
     "data": {
      "application/vnd.jupyter.widget-view+json": {
       "model_id": "1ca77a5cc34e4b48b3017009100af3b4",
       "version_major": 2,
       "version_minor": 0
      },
      "text/plain": [
       "Splitting Columba Palumbus Linnaeus audio files:   0%|          | 0/1072 [00:00<?, ?it/s]"
      ]
     },
     "metadata": {},
     "output_type": "display_data"
    },
    {
     "data": {
      "application/vnd.jupyter.widget-view+json": {
       "model_id": "160e18c15e164eb8b4afe6a7ad1ea8d6",
       "version_major": 2,
       "version_minor": 0
      },
      "text/plain": [
       "Splitting Troglodytes Troglodytes audio files:   0%|          | 0/2218 [00:00<?, ?it/s]"
      ]
     },
     "metadata": {},
     "output_type": "display_data"
    },
    {
     "data": {
      "application/vnd.jupyter.widget-view+json": {
       "model_id": "8310273989c7416491034091119d0830",
       "version_major": 2,
       "version_minor": 0
      },
      "text/plain": [
       "Splitting Passer Domesticus audio files:   0%|          | 0/3901 [00:00<?, ?it/s]"
      ]
     },
     "metadata": {},
     "output_type": "display_data"
    },
    {
     "data": {
      "application/vnd.jupyter.widget-view+json": {
       "model_id": "58b35e66efd94e1ea3ed0bcd5408599f",
       "version_major": 2,
       "version_minor": 0
      },
      "text/plain": [
       "Splitting Fringilla Coelebs Linnaeus audio files:   0%|          | 0/4321 [00:00<?, ?it/s]"
      ]
     },
     "metadata": {},
     "output_type": "display_data"
    }
   ],
   "source": [
    "# load audio file\n",
    "clean_dir = \"/home/birdo/MachineLearning/clean-audio/\"\n",
    "\n",
    "paths = glob('/home/birdo/MachineLearning/Vogelgeluiden/*')\n",
    "bird_sounds = dict()\n",
    "\n",
    "for path in paths:\n",
    "    bird_name = path.split('/')[-1]\n",
    "    bird_sounds[bird_name] = glob(path+'/geluiden/*')\n",
    "\n",
    "\n",
    "\n",
    "# print all entries in bird_sounds dict\n",
    "with concurrent.futures.ThreadPoolExecutor(max_workers=8,thread_name_prefix=\"birds\") as pool:\n",
    "    for bird_name in bird_sounds:\n",
    "        split_coroutines = []\n",
    "        for bird_sound in bird_sounds[bird_name]:\n",
    "            split_coroutine = split_and_write_audio(bird_sound,clean_dir,bird_name,executor=pool)\n",
    "            split_coroutines.append(split_coroutine)\n",
    "\n",
    "        coroutine_count = len(split_coroutines)\n",
    "        complete_count = 0\n",
    "        \n",
    "\n",
    "        for f in tqdm(asyncio.as_completed(split_coroutines), total=coroutine_count, desc=f\"Splitting {bird_name} audio files\",mininterval=0.01,maxinterval=10, miniters=1):\n",
    "            result = await f\n",
    "            complete_count += 1\n",
    "            # tqdm.write(f\"{complete_count}/{coroutine_count} {result}\")"
   ]
  }
 ],
 "metadata": {
  "kernelspec": {
   "display_name": "Python 3 (ipykernel)",
   "language": "python",
   "name": "python3"
  },
  "language_info": {
   "codemirror_mode": {
    "name": "ipython",
    "version": 3
   },
   "file_extension": ".py",
   "mimetype": "text/x-python",
   "name": "python",
   "nbconvert_exporter": "python",
   "pygments_lexer": "ipython3",
   "version": "3.9.16"
  }
 },
 "nbformat": 4,
 "nbformat_minor": 2
}
