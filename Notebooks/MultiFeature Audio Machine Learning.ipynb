{
 "cells": [
  {
   "cell_type": "code",
   "execution_count": 3,
   "id": "c1517297",
   "metadata": {},
   "outputs": [
    {
     "name": "stderr",
     "output_type": "stream",
     "text": [
      "2023-06-19 13:48:59.375946: I tensorflow/core/platform/cpu_feature_guard.cc:182] This TensorFlow binary is optimized to use available CPU instructions in performance-critical operations.\n",
      "To enable the following instructions: AVX2 FMA, in other operations, rebuild TensorFlow with the appropriate compiler flags.\n",
      "2023-06-19 13:49:00.733476: W tensorflow/compiler/tf2tensorrt/utils/py_utils.cc:38] TF-TRT Warning: Could not find TensorRT\n"
     ]
    }
   ],
   "source": [
    "import os\n",
    "os.environ[\"TF_GPU_THREAD_MODE\"] = \"gpu_private\"\n",
    "\n",
    "import pandas as pd\n",
    "import io\n",
    "import matplotlib.pyplot as plt\n",
    "import librosa\n",
    "import random\n",
    "import itertools\n",
    "\n",
    "# import librosa.display\n",
    "from sklearn.metrics import confusion_matrix\n",
    "from sklearn.preprocessing import normalize\n",
    "from tensorflow.keras.regularizers import l2\n",
    "import warnings\n",
    "\n",
    "warnings.filterwarnings(\"ignore\")\n",
    "import numpy as np\n",
    "import pickle\n",
    "import joblib\n",
    "from sklearn.model_selection import train_test_split\n",
    "from tensorflow.keras import models, layers\n",
    "import tensorflow.keras as keras\n",
    "import tensorflow as tf\n",
    "from datetime import datetime\n",
    "\n",
    "import asyncio\n",
    "import concurrent.futures\n",
    "import functools\n",
    "\n",
    "# settings\n",
    "physical_devices = tf.config.experimental.list_physical_devices('GPU')\n",
    "tf.config.experimental.set_memory_growth(physical_devices[0], True)\n",
    "tf.config.set_logical_device_configuration(physical_devices[0],[tf.config.LogicalDeviceConfiguration(memory_limit=3500)])\n",
    "\n",
    "\n"
   ]
  },
  {
   "cell_type": "markdown",
   "id": "73695e0a",
   "metadata": {},
   "source": [
    "<h1>Audio ML with multiple features</h1>"
   ]
  },
  {
   "cell_type": "markdown",
   "id": "d0a0ac2b",
   "metadata": {},
   "source": [
    "<h2>Loading the Data</h2>"
   ]
  },
  {
   "cell_type": "code",
   "execution_count": 4,
   "id": "d0e71c94",
   "metadata": {},
   "outputs": [],
   "source": [
    "basePath = \"/home/birdo/MachineLearning/Data/\""
   ]
  },
  {
   "cell_type": "code",
   "execution_count": 5,
   "id": "61caeac8",
   "metadata": {},
   "outputs": [],
   "source": [
    "df = pd.read_csv(basePath + \"bird_sounds.csv\")"
   ]
  },
  {
   "cell_type": "code",
   "execution_count": 6,
   "id": "7e382620",
   "metadata": {},
   "outputs": [
    {
     "data": {
      "text/html": [
       "<div>\n",
       "<style scoped>\n",
       "    .dataframe tbody tr th:only-of-type {\n",
       "        vertical-align: middle;\n",
       "    }\n",
       "\n",
       "    .dataframe tbody tr th {\n",
       "        vertical-align: top;\n",
       "    }\n",
       "\n",
       "    .dataframe thead th {\n",
       "        text-align: right;\n",
       "    }\n",
       "</style>\n",
       "<table border=\"1\" class=\"dataframe\">\n",
       "  <thead>\n",
       "    <tr style=\"text-align: right;\">\n",
       "      <th></th>\n",
       "      <th>recording_id</th>\n",
       "      <th>species_id</th>\n",
       "    </tr>\n",
       "  </thead>\n",
       "  <tbody>\n",
       "    <tr>\n",
       "      <th>0</th>\n",
       "      <td>XC554370-ANAPLA_200229_5623_Fontbonne81_part_5...</td>\n",
       "      <td>Anas Platyrhynchos Linnaeus</td>\n",
       "    </tr>\n",
       "    <tr>\n",
       "      <th>1</th>\n",
       "      <td>XC605547-Wilde%20Eend%2020200621%202320%201a_p...</td>\n",
       "      <td>Anas Platyrhynchos Linnaeus</td>\n",
       "    </tr>\n",
       "    <tr>\n",
       "      <th>2</th>\n",
       "      <td>XC450266-20190105_165207%2B6%2C5sagcpato_part_...</td>\n",
       "      <td>Anas Platyrhynchos Linnaeus</td>\n",
       "    </tr>\n",
       "    <tr>\n",
       "      <th>3</th>\n",
       "      <td>XC618673-24_25_10_Anas_platyrrynchos_280_part_...</td>\n",
       "      <td>Anas Platyrhynchos Linnaeus</td>\n",
       "    </tr>\n",
       "    <tr>\n",
       "      <th>4</th>\n",
       "      <td>XC213601-magamo_fem_150215_sub_part_1.wav</td>\n",
       "      <td>Anas Platyrhynchos Linnaeus</td>\n",
       "    </tr>\n",
       "    <tr>\n",
       "      <th>...</th>\n",
       "      <td>...</td>\n",
       "      <td>...</td>\n",
       "    </tr>\n",
       "    <tr>\n",
       "      <th>89236</th>\n",
       "      <td>173192_part_0.wav</td>\n",
       "      <td>no bird</td>\n",
       "    </tr>\n",
       "    <tr>\n",
       "      <th>89237</th>\n",
       "      <td>39931_part_0.wav</td>\n",
       "      <td>no bird</td>\n",
       "    </tr>\n",
       "    <tr>\n",
       "      <th>89238</th>\n",
       "      <td>189268_part_0.wav</td>\n",
       "      <td>no bird</td>\n",
       "    </tr>\n",
       "    <tr>\n",
       "      <th>89239</th>\n",
       "      <td>146346_part_0.wav</td>\n",
       "      <td>no bird</td>\n",
       "    </tr>\n",
       "    <tr>\n",
       "      <th>89240</th>\n",
       "      <td>159171_part_0.wav</td>\n",
       "      <td>no bird</td>\n",
       "    </tr>\n",
       "  </tbody>\n",
       "</table>\n",
       "<p>89241 rows × 2 columns</p>\n",
       "</div>"
      ],
      "text/plain": [
       "                                            recording_id   \n",
       "0      XC554370-ANAPLA_200229_5623_Fontbonne81_part_5...  \\\n",
       "1      XC605547-Wilde%20Eend%2020200621%202320%201a_p...   \n",
       "2      XC450266-20190105_165207%2B6%2C5sagcpato_part_...   \n",
       "3      XC618673-24_25_10_Anas_platyrrynchos_280_part_...   \n",
       "4              XC213601-magamo_fem_150215_sub_part_1.wav   \n",
       "...                                                  ...   \n",
       "89236                                  173192_part_0.wav   \n",
       "89237                                   39931_part_0.wav   \n",
       "89238                                  189268_part_0.wav   \n",
       "89239                                  146346_part_0.wav   \n",
       "89240                                  159171_part_0.wav   \n",
       "\n",
       "                        species_id  \n",
       "0      Anas Platyrhynchos Linnaeus  \n",
       "1      Anas Platyrhynchos Linnaeus  \n",
       "2      Anas Platyrhynchos Linnaeus  \n",
       "3      Anas Platyrhynchos Linnaeus  \n",
       "4      Anas Platyrhynchos Linnaeus  \n",
       "...                            ...  \n",
       "89236                      no bird  \n",
       "89237                      no bird  \n",
       "89238                      no bird  \n",
       "89239                      no bird  \n",
       "89240                      no bird  \n",
       "\n",
       "[89241 rows x 2 columns]"
      ]
     },
     "execution_count": 6,
     "metadata": {},
     "output_type": "execute_result"
    }
   ],
   "source": [
    "df"
   ]
  },
  {
   "cell_type": "code",
   "execution_count": 7,
   "id": "315022c3",
   "metadata": {},
   "outputs": [
    {
     "data": {
      "text/plain": [
       "array(['Anas Platyrhynchos Linnaeus', 'Phylloscopus Collybita',\n",
       "       'Parus Major Linnaeus', 'Columba Palumbus Linnaeus',\n",
       "       'Passer Domesticus', 'Turdus Merula Linnaeus',\n",
       "       'Troglodytes Troglodytes', 'Phylloscopus Trochilus',\n",
       "       'Fringilla Coelebs Linnaeus', 'Sturnus Vulgaris Linnaeus',\n",
       "       'no bird'], dtype=object)"
      ]
     },
     "execution_count": 7,
     "metadata": {},
     "output_type": "execute_result"
    }
   ],
   "source": [
    "df.species_id.unique()"
   ]
  },
  {
   "cell_type": "markdown",
   "id": "72d61846",
   "metadata": {},
   "source": [
    "## Train/val/test split"
   ]
  },
  {
   "cell_type": "code",
   "execution_count": 5,
   "id": "bc837a22",
   "metadata": {},
   "outputs": [
    {
     "name": "stdout",
     "output_type": "stream",
     "text": [
      "53544 17849 17848\n"
     ]
    }
   ],
   "source": [
    "allImPath = basePath + \"Images/all/\"\n",
    "allLabelPath = basePath + \"Labels/all/\"\n",
    "valid_files = []\n",
    "labels = []\n",
    "for img_file in os.listdir(allImPath):\n",
    "    if os.path.isfile(allImPath + img_file) and os.path.isfile(allLabelPath + img_file):\n",
    "        if os.path.isfile(allLabelPath + img_file):\n",
    "            valid_files.append(img_file)\n",
    "            f = open(allLabelPath + img_file, \"r\")\n",
    "            label = f.read()\n",
    "            f.close()\n",
    "            labels.append(label)\n",
    "        else:\n",
    "            print(\"No label could be found of: \" + img_file)\n",
    "    else:\n",
    "        continue \n",
    "\n",
    "X_train, X_test, y_train, y_test = train_test_split(\n",
    "    valid_files, labels, test_size=0.2, random_state=42, stratify=labels\n",
    ")\n",
    "\n",
    "X_train, X_val, y_train, y_val = train_test_split(\n",
    "    X_train, y_train, test_size=0.25, random_state=42, stratify=y_train\n",
    ")  # 0.25 x 0.8 = 0.2\n",
    "print(len(y_train), len(y_test), len(y_val))"
   ]
  },
  {
   "cell_type": "markdown",
   "id": "8e9f2933",
   "metadata": {},
   "source": [
    "## Prepare data generators"
   ]
  },
  {
   "cell_type": "code",
   "execution_count": 7,
   "id": "55184b4a",
   "metadata": {},
   "outputs": [],
   "source": [
    "NUM_DCT_OUTPUTS = 32\n",
    "MFCC_SIZE = 310\n",
    "CHANNELS = 1"
   ]
  },
  {
   "cell_type": "code",
   "execution_count": 8,
   "id": "db31c1cd",
   "metadata": {},
   "outputs": [],
   "source": [
    "class Sound_Generator(keras.utils.Sequence):\n",
    "    def __init__(self, image_filenames, labels, batch_size, directory):\n",
    "        self.image_filenames = image_filenames\n",
    "        self.labels = labels\n",
    "        self.batch_size = batch_size\n",
    "        self.imBasePath = basePath + str(\"Images/\") + directory\n",
    "        self.labelBasePath = basePath + str(\"Labels/\") + directory\n",
    "        self.executor = concurrent.futures.ThreadPoolExecutor(8)\n",
    "        random.seed(42)\n",
    "\n",
    "    def __get_all_labels__(self):\n",
    "        y = np.asarray(self.labels, dtype=np.float32)\n",
    "        return y\n",
    "\n",
    "    def __on_epoch_end(self):\n",
    "        c = list(zip(self.image_filenames, self.labels))\n",
    "        random.shuffle(c)\n",
    "        self.image_filenames, self.labels = zip(*c)\n",
    "\n",
    "    def __len__(self):\n",
    "        return (np.ceil(len(self.image_filenames) / float(self.batch_size))).astype(\n",
    "            np.int\n",
    "        )\n",
    "\n",
    "    def __getitem__(self, idx):\n",
    "        batch_x = self.image_filenames[\n",
    "            idx * self.batch_size : (idx + 1) * self.batch_size\n",
    "        ]\n",
    "        batch_y = self.labels[idx * self.batch_size : (idx + 1) * self.batch_size]\n",
    "\n",
    "        X = self.get_images_data(batch_x, self.imBasePath)\n",
    "\n",
    "        X = np.asarray(X, dtype=np.float32)\n",
    "        y0 = np.asarray(batch_y, dtype=np.float32)\n",
    "\n",
    "        return X, y0\n",
    "\n",
    "    def get_image_data(self,file_path):\n",
    "        _data = np.fromfile(file_path, dtype=np.float64)\n",
    "        return _data.reshape((MFCC_SIZE, NUM_DCT_OUTPUTS, CHANNELS))\n",
    "\n",
    "    def get_images_data(self,_batch_x, _imBasePath):\n",
    "        tasks = [\n",
    "            self.executor.submit(self.get_image_data,_imBasePath + _image_f)\n",
    "            for _image_f in _batch_x\n",
    "        ]\n",
    "        return [task.result() for task in tasks]"
   ]
  },
  {
   "cell_type": "markdown",
   "id": "6771fd6a",
   "metadata": {},
   "source": [
    "## Load an image"
   ]
  },
  {
   "cell_type": "code",
   "execution_count": 9,
   "id": "6df2b62d",
   "metadata": {},
   "outputs": [
    {
     "name": "stdout",
     "output_type": "stream",
     "text": [
      "Turdus Merula Linnaeus-XC353083-1402_000-02tut%20mp3_part_7.npy\n",
      "(310, 32, 1)\n"
     ]
    },
    {
     "data": {
      "text/plain": [
       "<matplotlib.image.AxesImage at 0x7f4b5698aa00>"
      ]
     },
     "execution_count": 9,
     "metadata": {},
     "output_type": "execute_result"
    },
    {
     "data": {
      "image/png": "[encoded data removed]",
      "text/plain": [
       "<Figure size 800x800 with 1 Axes>"
      ]
     },
     "metadata": {},
     "output_type": "display_data"
    }
   ],
   "source": [
    "X_test_test = X_test[15000]\n",
    "print(X_test_test)\n",
    "image = np.fromfile((allImPath + X_test_test), dtype=np.float64).reshape(\n",
    "    (MFCC_SIZE,NUM_DCT_OUTPUTS, CHANNELS)\n",
    ")\n",
    "print(image.shape)\n",
    "plt.figure(figsize=(8, 8))\n",
    "plt.imshow(image)"
   ]
  },
  {
   "cell_type": "code",
   "execution_count": 10,
   "id": "fbbf3fc5",
   "metadata": {},
   "outputs": [],
   "source": [
    "batch_size = 100\n",
    "\n",
    "train_batch_generator = Sound_Generator(X_train, y_train, batch_size, \"all/\")\n",
    "val_batch_generator = Sound_Generator(X_val, y_val, batch_size, \"all/\")\n",
    "test_batch_generator = Sound_Generator(X_test, y_test, batch_size, \"all/\")\n",
    "mini_train_batch_generator = Sound_Generator(\n",
    "    X_train[:400], y_train[:400], batch_size, \"all/\"\n",
    ")\n",
    "mini_test_batch_generator = Sound_Generator(\n",
    "    X_val[:100], y_val[:100], batch_size, \"all/\"\n",
    ")"
   ]
  },
  {
   "cell_type": "markdown",
   "id": "e8821463",
   "metadata": {},
   "source": [
    "## Build the model"
   ]
  },
  {
   "cell_type": "code",
   "execution_count": 11,
   "id": "be1649ed",
   "metadata": {},
   "outputs": [
    {
     "name": "stderr",
     "output_type": "stream",
     "text": [
      "2023-06-19 11:49:54.920449: I tensorflow/core/common_runtime/gpu/gpu_process_state.cc:226] Using CUDA malloc Async allocator for GPU: 0\n",
      "2023-06-19 11:49:54.920824: I tensorflow/core/common_runtime/gpu/gpu_device.cc:1635] Created device /job:localhost/replica:0/task:0/device:GPU:0 with 3500 MB memory:  -> device: 0, name: NVIDIA GeForce GTX 1650, pci bus id: 0000:00:10.0, compute capability: 7.5\n"
     ]
    },
    {
     "name": "stdout",
     "output_type": "stream",
     "text": [
      "Model: \"sequential\"\n",
      "_________________________________________________________________\n",
      " Layer (type)                Output Shape              Param #   \n",
      "=================================================================\n",
      " conv2d_tanh (Conv2D)        (None, 310, 32, 8)        400       \n",
      "                                                                 \n",
      " maxpool2d_1 (MaxPooling2D)  (None, 155, 16, 8)        0         \n",
      "                                                                 \n",
      " dropout_1 (Dropout)         (None, 155, 16, 8)        0         \n",
      "                                                                 \n",
      " conv2d_relu_1 (Conv2D)      (None, 155, 16, 16)       3216      \n",
      "                                                                 \n",
      " maxpool2d_2 (MaxPooling2D)  (None, 77, 8, 16)         0         \n",
      "                                                                 \n",
      " dropout_2 (Dropout)         (None, 77, 8, 16)         0         \n",
      "                                                                 \n",
      " conv2d_relu_2 (Conv2D)      (None, 77, 8, 16)         2320      \n",
      "                                                                 \n",
      " max_pool_2d_3 (MaxPooling2D  (None, 39, 4, 16)        0         \n",
      " )                                                               \n",
      "                                                                 \n",
      " dropout_3 (Dropout)         (None, 39, 4, 16)         0         \n",
      "                                                                 \n",
      " conv2d_relu_3 (Conv2D)      (None, 39, 4, 32)         4640      \n",
      "                                                                 \n",
      " max_pool_2d_4 (MaxPooling2D  (None, 20, 2, 32)        0         \n",
      " )                                                               \n",
      "                                                                 \n",
      " dropout_4 (Dropout)         (None, 20, 2, 32)         0         \n",
      "                                                                 \n",
      " conv2d_relu_4 (Conv2D)      (None, 20, 2, 32)         9248      \n",
      "                                                                 \n",
      " flatten (Flatten)           (None, 1280)              0         \n",
      "                                                                 \n",
      " dropout_5 (Dropout)         (None, 1280)              0         \n",
      "                                                                 \n",
      " dense (Dense)               (None, 64)                81984     \n",
      "                                                                 \n",
      " dropout_6 (Dropout)         (None, 64)                0         \n",
      "                                                                 \n",
      " dense_2 (Dense)             (None, 32)                2080      \n",
      "                                                                 \n",
      " softmax (Dense)             (None, 11)                363       \n",
      "                                                                 \n",
      "=================================================================\n",
      "Total params: 104,251\n",
      "Trainable params: 104,251\n",
      "Non-trainable params: 0\n",
      "_________________________________________________________________\n"
     ]
    }
   ],
   "source": [
    "input_shape = (MFCC_SIZE, NUM_DCT_OUTPUTS, CHANNELS)\n",
    "n_classes = df.species_id.unique().shape[0]\n",
    "CNNmodel = models.Sequential()\n",
    "\n",
    "CNNmodel.add(layers.Conv2D(8, kernel_size=(7,7),input_shape=input_shape, activation='tanh', padding='same', name='conv2d_tanh', kernel_regularizer=l2(0.001)))\n",
    "CNNmodel.add(layers.MaxPooling2D(pool_size=(2,2), name='maxpool2d_1'))\n",
    "CNNmodel.add(layers.Dropout(rate=0.2, name='dropout_1'))\n",
    "\n",
    "CNNmodel.add(layers.Conv2D(16, kernel_size=(5,5), activation='relu', padding='same', name='conv2d_relu_1',kernel_regularizer=l2(0.001)))\n",
    "CNNmodel.add(layers.MaxPooling2D(pool_size=(2,2), name='maxpool2d_2'))\n",
    "CNNmodel.add(layers.Dropout(rate=0.2, name='dropout_2'))\n",
    "\n",
    "CNNmodel.add(layers.Conv2D(16, kernel_size=(3,3), activation='relu', padding='same', name='conv2d_relu_2',kernel_regularizer=l2(0.001)))\n",
    "CNNmodel.add(layers.MaxPooling2D(pool_size=(2,2), padding='same', name='max_pool_2d_3'))\n",
    "CNNmodel.add(layers.Dropout(rate=0.2, name='dropout_3'))\n",
    "\n",
    "CNNmodel.add(layers.Conv2D(32, kernel_size=(3,3), activation='relu', padding='same', name='conv2d_relu_3',kernel_regularizer=l2(0.001)))\n",
    "CNNmodel.add(layers.MaxPooling2D(pool_size=(2,2), padding='same', name='max_pool_2d_4'))\n",
    "CNNmodel.add(layers.Dropout(rate=0.2, name='dropout_4'))\n",
    "\n",
    "CNNmodel.add(layers.Conv2D(32, kernel_size=(3,3), activation='relu', padding='same', name='conv2d_relu_4', kernel_regularizer=l2(0.001)))\n",
    "CNNmodel.add(layers.Flatten(name='flatten'))\n",
    "CNNmodel.add(layers.Dropout(rate=0.2, name='dropout_5'))\n",
    "\n",
    "CNNmodel.add(layers.Dense(64, activation='relu', activity_regularizer=l2(0.001),kernel_regularizer=l2(0.001), name='dense'))\n",
    "CNNmodel.add(layers.Dropout(rate=0.2, name='dropout_6'))\n",
    "CNNmodel.add(layers.Dense(32, activation=\"relu\", name='dense_2'))\n",
    "CNNmodel.add(layers.Dense(n_classes, activation='softmax', name='softmax'))\n",
    "CNNmodel.summary()"
   ]
  },
  {
   "cell_type": "code",
   "execution_count": 12,
   "id": "9440f35c",
   "metadata": {},
   "outputs": [],
   "source": [
    "load_model = True\n",
    "if load_model:\n",
    "    CNNmodel = tf.keras.models.load_model(basePath + str(\"/Models/MFCCOnly\"))\n",
    "else:\n",
    "    CNNmodel.compile(\n",
    "        optimizer=\"adam\",\n",
    "        loss=tf.keras.losses.SparseCategoricalCrossentropy(from_logits=False),\n",
    "        metrics=[\"accuracy\"],\n",
    "        jit_compile=True,\n",
    "    )"
   ]
  },
  {
   "cell_type": "markdown",
   "id": "8b406fc4",
   "metadata": {},
   "source": [
    "## Define tensorflow callback"
   ]
  },
  {
   "cell_type": "code",
   "execution_count": 13,
   "id": "ffda9751",
   "metadata": {},
   "outputs": [
    {
     "name": "stderr",
     "output_type": "stream",
     "text": [
      "2023-06-19 11:49:56.312753: I tensorflow/tsl/profiler/lib/profiler_session.cc:104] Profiler session initializing.\n",
      "2023-06-19 11:49:56.312786: I tensorflow/tsl/profiler/lib/profiler_session.cc:119] Profiler session started.\n",
      "2023-06-19 11:49:56.317948: I tensorflow/compiler/xla/backends/profiler/gpu/cupti_tracer.cc:1679] Profiler found 1 GPUs\n",
      "2023-06-19 11:49:56.350257: I tensorflow/tsl/profiler/lib/profiler_session.cc:131] Profiler session tear down.\n",
      "2023-06-19 11:49:56.350444: I tensorflow/compiler/xla/backends/profiler/gpu/cupti_tracer.cc:1813] CUPTI activity buffer flushed\n"
     ]
    }
   ],
   "source": [
    "log_dir = basePath + \"logs/MFCCOnly/\" + datetime.now().strftime(\"%Y%m%d-%H%M%S\")\n",
    "tensorboard_callback = tf.keras.callbacks.TensorBoard(log_dir=log_dir, histogram_freq=1,profile_batch='10, 15')\n",
    "file_writer_cm = tf.summary.create_file_writer(log_dir + \"/cm\")\n",
    "\n",
    "model_checkpoint_callback = tf.keras.callbacks.ModelCheckpoint(\n",
    "    filepath=basePath + str(\"/Models/MFCCOnly\"),\n",
    "    save_weights_only=False,\n",
    "    monitor=\"val_accuracy\",\n",
    "    save_best_only=True,\n",
    ")"
   ]
  },
  {
   "cell_type": "markdown",
   "id": "c230b5be",
   "metadata": {},
   "source": [
    "### Define Confusion Matrix callback"
   ]
  },
  {
   "cell_type": "code",
   "execution_count": 14,
   "id": "5c7b4635",
   "metadata": {},
   "outputs": [],
   "source": [
    "def plot_confusion_matrix(cm, class_names):\n",
    "    \"\"\"\n",
    "    Returns a matplotlib figure containing the plotted confusion matrix.\n",
    "\n",
    "    Args:\n",
    "       cm (array, shape = [n, n]): a confusion matrix of integer classes\n",
    "       class_names (array, shape = [n]): String names of the integer classes\n",
    "    \"\"\"\n",
    "\n",
    "    figure = plt.figure(figsize=(10, 10))\n",
    "    plt.imshow(cm, interpolation=\"nearest\", cmap=plt.cm.Blues)\n",
    "    plt.title(\"Confusion matrix\")\n",
    "    plt.colorbar()\n",
    "    tick_marks = np.arange(len(class_names))\n",
    "    plt.xticks(tick_marks, class_names, rotation=45)\n",
    "    plt.yticks(tick_marks, class_names)\n",
    "\n",
    "    # Normalize the confusion matrix.\n",
    "    # cm = np.around(cm.astype('float') / cm.sum(axis=1)[:, np.newaxis], decimals=2)\n",
    "\n",
    "    # Use white text if squares are dark; otherwise black.\n",
    "    threshold = cm.max() / 2.0\n",
    "\n",
    "    for i, j in itertools.product(range(cm.shape[0]), range(cm.shape[1])):\n",
    "        color = \"white\" if cm[i, j] > threshold else \"black\"\n",
    "        plt.text(j, i, cm[i, j], horizontalalignment=\"center\", color=color)\n",
    "\n",
    "    plt.tight_layout()\n",
    "    plt.ylabel(\"True label\")\n",
    "    plt.xlabel(\"Predicted label\")\n",
    "    return figure"
   ]
  },
  {
   "cell_type": "code",
   "execution_count": 15,
   "id": "55497983",
   "metadata": {},
   "outputs": [],
   "source": [
    "def plot_to_image(figure):\n",
    "    \"\"\"\n",
    "    Converts the matplotlib plot specified by 'figure' to a PNG image and\n",
    "    returns it. The supplied figure is closed and inaccessible after this call.\n",
    "    \"\"\"\n",
    "\n",
    "    buf = io.BytesIO()\n",
    "\n",
    "    # Use plt.savefig to save the plot to a PNG in memory.\n",
    "    plt.savefig(buf, format=\"png\")\n",
    "\n",
    "    # Closing the figure prevents it from being displayed directly inside\n",
    "    # the notebook.\n",
    "    plt.close(figure)\n",
    "    buf.seek(0)\n",
    "\n",
    "    # Use tf.image.decode_png to convert the PNG buffer\n",
    "    # to a TF image. Make sure you use 4 channels.\n",
    "    image = tf.image.decode_png(buf.getvalue(), channels=4)\n",
    "\n",
    "    # Use tf.expand_dims to add the batch dimension\n",
    "    image = tf.expand_dims(image, 0)\n",
    "\n",
    "    return image"
   ]
  },
  {
   "cell_type": "code",
   "execution_count": 16,
   "id": "7cb09a08",
   "metadata": {},
   "outputs": [],
   "source": [
    "def log_confusion_matrix(epoch, logs):\n",
    "    batch_generator = val_batch_generator\n",
    "\n",
    "    figure = generate_cm(batch_generator)\n",
    "    cm_image = plot_to_image(figure)\n",
    "\n",
    "    # Log the confusion matrix as an image summary.\n",
    "    with file_writer_cm.as_default():\n",
    "        tf.summary.image(\"Confusion Matrix\", cm_image, step=epoch)"
   ]
  },
  {
   "cell_type": "code",
   "execution_count": 17,
   "id": "cdf8f2e6",
   "metadata": {},
   "outputs": [],
   "source": [
    "def generate_cm(generator):\n",
    "    y_pred_raw = CNNmodel.predict(generator)\n",
    "    y_pred = np.argmax(y_pred_raw, axis=1)\n",
    "    y_true = generator.__get_all_labels__()\n",
    "    cm = confusion_matrix(y_true, y_pred)\n",
    "    figure = plot_confusion_matrix(cm, class_names=df.species_id.unique())\n",
    "    return figure"
   ]
  },
  {
   "cell_type": "code",
   "execution_count": 18,
   "id": "e35c6327",
   "metadata": {},
   "outputs": [],
   "source": [
    "cm_callback = keras.callbacks.LambdaCallback(on_epoch_end=log_confusion_matrix)"
   ]
  },
  {
   "cell_type": "markdown",
   "id": "d5c7a7ca",
   "metadata": {},
   "source": [
    "## Calculate class weights"
   ]
  },
  {
   "cell_type": "code",
   "execution_count": 19,
   "id": "9846d17b",
   "metadata": {},
   "outputs": [
    {
     "name": "stdout",
     "output_type": "stream",
     "text": [
      "{0: 2.5787724672022194, 1: 1.2972206878506847, 2: 0.9040359016958082, 3: 2.0909325210871605, 4: 1.3541676150589521, 5: 0.5250335349351658, 6: 1.1275633331227495, 7: 0.3889547503029141, 8: 1.5746929700734047, 9: 1.2322020324754224, 10: 1.4096990759023773}\n"
     ]
    }
   ],
   "source": [
    "weights = []\n",
    "for specie in df.species_id.unique():\n",
    "    amount = len(df[df[\"species_id\"] == specie])\n",
    "    weight = (1 / amount) * (len(df) / len(df.species_id.unique()))\n",
    "    weights.append(weight)\n",
    "zip_weights = zip(range(0, len(df.species_id.unique())), weights)\n",
    "class_weights = {}\n",
    "for (\n",
    "    i,\n",
    "    w,\n",
    ") in zip_weights:\n",
    "    class_weights[i] = w\n",
    "print(class_weights)"
   ]
  },
  {
   "cell_type": "markdown",
   "id": "bbe3d090",
   "metadata": {},
   "source": [
    "## Train the model"
   ]
  },
  {
   "cell_type": "code",
   "execution_count": 20,
   "id": "0e7c9d93",
   "metadata": {},
   "outputs": [
    {
     "name": "stdout",
     "output_type": "stream",
     "text": [
      "Epoch 1/32\n"
     ]
    },
    {
     "name": "stderr",
     "output_type": "stream",
     "text": [
      "2023-06-19 11:49:57.123863: I tensorflow/core/common_runtime/executor.cc:1197] [/device:CPU:0] (DEBUG INFO) Executor start aborting (this does not indicate an error and you can ignore this message): INVALID_ARGUMENT: You must feed a value for placeholder tensor 'Placeholder/_0' with dtype int32\n",
      "\t [[{{node Placeholder/_0}}]]\n",
      "2023-06-19 11:49:58.700383: E tensorflow/core/grappler/optimizers/meta_optimizer.cc:954] layout failed: INVALID_ARGUMENT: Size of values 0 does not match size of permutation 4 @ fanin shape insequential_11/dropout_1/dropout/SelectV2-2-TransposeNHWCToNCHW-LayoutOptimizer\n",
      "2023-06-19 11:49:59.118191: I tensorflow/compiler/xla/stream_executor/cuda/cuda_dnn.cc:424] Loaded cuDNN version 8901\n",
      "2023-06-19 11:50:00.274815: I tensorflow/compiler/xla/service/service.cc:169] XLA service 0x7f4ae40240e0 initialized for platform CUDA (this does not guarantee that XLA will be used). Devices:\n",
      "2023-06-19 11:50:00.274857: I tensorflow/compiler/xla/service/service.cc:177]   StreamExecutor device (0): NVIDIA GeForce GTX 1650, Compute Capability 7.5\n",
      "2023-06-19 11:50:00.322962: I tensorflow/compiler/mlir/tensorflow/utils/dump_mlir_util.cc:269] disabling MLIR crash reproducer, set env var `MLIR_CRASH_REPRODUCER_DIRECTORY` to enable.\n",
      "2023-06-19 11:50:00.683707: I ./tensorflow/compiler/jit/device_compiler.h:180] Compiled cluster using XLA!  This line is logged at most once for the lifetime of the process.\n"
     ]
    },
    {
     "name": "stdout",
     "output_type": "stream",
     "text": [
      " 12/536 [..............................] - ETA: 21s - loss: 0.7408 - accuracy: 0.8433"
     ]
    },
    {
     "name": "stderr",
     "output_type": "stream",
     "text": [
      "2023-06-19 11:50:04.194168: I tensorflow/tsl/profiler/lib/profiler_session.cc:104] Profiler session initializing.\n",
      "2023-06-19 11:50:04.194215: I tensorflow/tsl/profiler/lib/profiler_session.cc:119] Profiler session started.\n"
     ]
    },
    {
     "name": "stdout",
     "output_type": "stream",
     "text": [
      " 14/536 [..............................] - ETA: 20s - loss: 0.7384 - accuracy: 0.8421"
     ]
    },
    {
     "name": "stderr",
     "output_type": "stream",
     "text": [
      "2023-06-19 11:50:04.479477: I tensorflow/tsl/profiler/lib/profiler_session.cc:70] Profiler session collecting data.\n",
      "2023-06-19 11:50:04.483728: I tensorflow/compiler/xla/backends/profiler/gpu/cupti_tracer.cc:1813] CUPTI activity buffer flushed\n",
      "2023-06-19 11:50:04.497882: I tensorflow/compiler/xla/backends/profiler/gpu/cupti_collector.cc:541]  GpuTracer has collected 1803 callback api events and 1798 activity events. \n",
      "2023-06-19 11:50:04.513829: I tensorflow/tsl/profiler/lib/profiler_session.cc:131] Profiler session tear down.\n"
     ]
    },
    {
     "name": "stdout",
     "output_type": "stream",
     "text": [
      "536/536 [==============================] - ETA: 0s - loss: 0.7783 - accuracy: 0.8065"
     ]
    },
    {
     "name": "stderr",
     "output_type": "stream",
     "text": [
      "2023-06-19 11:50:43.219757: I tensorflow/core/common_runtime/executor.cc:1197] [/device:CPU:0] (DEBUG INFO) Executor start aborting (this does not indicate an error and you can ignore this message): INVALID_ARGUMENT: You must feed a value for placeholder tensor 'Placeholder/_0' with dtype int32\n",
      "\t [[{{node Placeholder/_0}}]]\n",
      "2023-06-19 11:51:03.969299: I tensorflow/core/common_runtime/executor.cc:1197] [/device:CPU:0] (DEBUG INFO) Executor start aborting (this does not indicate an error and you can ignore this message): INVALID_ARGUMENT: You must feed a value for placeholder tensor 'inputs' with dtype float and shape [?,155,16,8]\n",
      "\t [[{{node inputs}}]]\n",
      "2023-06-19 11:51:03.989030: I tensorflow/core/common_runtime/executor.cc:1197] [/device:CPU:0] (DEBUG INFO) Executor start aborting (this does not indicate an error and you can ignore this message): INVALID_ARGUMENT: You must feed a value for placeholder tensor 'inputs' with dtype float and shape [?,77,8,16]\n",
      "\t [[{{node inputs}}]]\n",
      "2023-06-19 11:51:04.008259: I tensorflow/core/common_runtime/executor.cc:1197] [/device:CPU:0] (DEBUG INFO) Executor start aborting (this does not indicate an error and you can ignore this message): INVALID_ARGUMENT: You must feed a value for placeholder tensor 'inputs' with dtype float and shape [?,39,4,16]\n",
      "\t [[{{node inputs}}]]\n",
      "2023-06-19 11:51:04.026924: I tensorflow/core/common_runtime/executor.cc:1197] [/device:CPU:0] (DEBUG INFO) Executor start aborting (this does not indicate an error and you can ignore this message): INVALID_ARGUMENT: You must feed a value for placeholder tensor 'inputs' with dtype float and shape [?,20,2,32]\n",
      "\t [[{{node inputs}}]]\n",
      "2023-06-19 11:51:04.052234: I tensorflow/core/common_runtime/executor.cc:1197] [/device:CPU:0] (DEBUG INFO) Executor start aborting (this does not indicate an error and you can ignore this message): INVALID_ARGUMENT: You must feed a value for placeholder tensor 'inputs' with dtype float and shape [?,1280]\n",
      "\t [[{{node inputs}}]]\n",
      "2023-06-19 11:51:04.079303: I tensorflow/core/common_runtime/executor.cc:1197] [/device:CPU:0] (DEBUG INFO) Executor start aborting (this does not indicate an error and you can ignore this message): INVALID_ARGUMENT: You must feed a value for placeholder tensor 'inputs' with dtype float and shape [?,64]\n",
      "\t [[{{node inputs}}]]\n",
      "2023-06-19 11:51:04.674388: I tensorflow/core/common_runtime/executor.cc:1197] [/device:CPU:0] (DEBUG INFO) Executor start aborting (this does not indicate an error and you can ignore this message): INVALID_ARGUMENT: You must feed a value for placeholder tensor 'inputs' with dtype float and shape [?,155,16,8]\n",
      "\t [[{{node inputs}}]]\n",
      "2023-06-19 11:51:04.731505: I tensorflow/core/common_runtime/executor.cc:1197] [/device:CPU:0] (DEBUG INFO) Executor start aborting (this does not indicate an error and you can ignore this message): INVALID_ARGUMENT: You must feed a value for placeholder tensor 'inputs' with dtype float and shape [?,77,8,16]\n",
      "\t [[{{node inputs}}]]\n",
      "2023-06-19 11:51:04.784280: I tensorflow/core/common_runtime/executor.cc:1197] [/device:CPU:0] (DEBUG INFO) Executor start aborting (this does not indicate an error and you can ignore this message): INVALID_ARGUMENT: You must feed a value for placeholder tensor 'inputs' with dtype float and shape [?,39,4,16]\n",
      "\t [[{{node inputs}}]]\n",
      "2023-06-19 11:51:04.838139: I tensorflow/core/common_runtime/executor.cc:1197] [/device:CPU:0] (DEBUG INFO) Executor start aborting (this does not indicate an error and you can ignore this message): INVALID_ARGUMENT: You must feed a value for placeholder tensor 'inputs' with dtype float and shape [?,20,2,32]\n",
      "\t [[{{node inputs}}]]\n",
      "2023-06-19 11:51:04.897100: I tensorflow/core/common_runtime/executor.cc:1197] [/device:CPU:0] (DEBUG INFO) Executor start aborting (this does not indicate an error and you can ignore this message): INVALID_ARGUMENT: You must feed a value for placeholder tensor 'inputs' with dtype float and shape [?,1280]\n",
      "\t [[{{node inputs}}]]\n",
      "2023-06-19 11:51:04.964000: I tensorflow/core/common_runtime/executor.cc:1197] [/device:CPU:0] (DEBUG INFO) Executor start aborting (this does not indicate an error and you can ignore this message): INVALID_ARGUMENT: You must feed a value for placeholder tensor 'inputs' with dtype float and shape [?,64]\n",
      "\t [[{{node inputs}}]]\n",
      "WARNING:absl:Found untraced functions such as _jit_compiled_convolution_op, _jit_compiled_convolution_op, _jit_compiled_convolution_op, _jit_compiled_convolution_op, _jit_compiled_convolution_op while saving (showing 5 of 5). These functions will not be directly callable after loading.\n"
     ]
    },
    {
     "name": "stdout",
     "output_type": "stream",
     "text": [
      "INFO:tensorflow:Assets written to: /home/birdo/MachineLearning/Data//Models/MFCCOnly/assets\n"
     ]
    },
    {
     "name": "stderr",
     "output_type": "stream",
     "text": [
      "INFO:tensorflow:Assets written to: /home/birdo/MachineLearning/Data//Models/MFCCOnly/assets\n",
      "2023-06-19 11:51:06.957013: I tensorflow/core/common_runtime/executor.cc:1197] [/device:CPU:0] (DEBUG INFO) Executor start aborting (this does not indicate an error and you can ignore this message): INVALID_ARGUMENT: You must feed a value for placeholder tensor 'Placeholder/_0' with dtype int32\n",
      "\t [[{{node Placeholder/_0}}]]\n"
     ]
    },
    {
     "name": "stdout",
     "output_type": "stream",
     "text": [
      "179/179 [==============================] - 6s 30ms/step\n",
      "536/536 [==============================] - 77s 131ms/step - loss: 0.7783 - accuracy: 0.8065 - val_loss: 0.6736 - val_accuracy: 0.8340\n",
      "Epoch 2/32\n",
      "  3/179 [..............................] - ETA: 6s - loss: 0.7758 - accuracy: 0.810"
     ]
    },
    {
     "name": "stderr",
     "output_type": "stream",
     "text": [
      "2023-06-19 11:52:12.804666: I tensorflow/core/common_runtime/executor.cc:1197] [/device:CPU:0] (DEBUG INFO) Executor start aborting (this does not indicate an error and you can ignore this message): INVALID_ARGUMENT: You must feed a value for placeholder tensor 'Placeholder/_0' with dtype int32\n",
      "\t [[{{node Placeholder/_0}}]]\n"
     ]
    },
    {
     "name": "stdout",
     "output_type": "stream",
     "text": [
      "179/179 [==============================] - 6s 30ms/step\n",
      "536/536 [==============================] - 65s 122ms/step - loss: 0.7758 - accuracy: 0.8100 - val_loss: 0.7011 - val_accuracy: 0.8268\n",
      "Epoch 3/32\n",
      "  5/179 [..............................] - ETA: 5s - loss: 0.7714 - accuracy: 0.8"
     ]
    },
    {
     "name": "stderr",
     "output_type": "stream",
     "text": [
      "2023-06-19 11:53:16.498952: I tensorflow/core/common_runtime/executor.cc:1197] [/device:CPU:0] (DEBUG INFO) Executor start aborting (this does not indicate an error and you can ignore this message): INVALID_ARGUMENT: You must feed a value for placeholder tensor 'Placeholder/_0' with dtype int32\n",
      "\t [[{{node Placeholder/_0}}]]\n"
     ]
    },
    {
     "name": "stdout",
     "output_type": "stream",
     "text": [
      "179/179 [==============================] - 6s 31ms/step\n",
      "536/536 [==============================] - 64s 119ms/step - loss: 0.7714 - accuracy: 0.8085 - val_loss: 0.6851 - val_accuracy: 0.8302\n",
      "Epoch 4/32\n",
      "  3/179 [..............................] - ETA: 11s- loss: 0.7688 - accuracy: 0.80"
     ]
    },
    {
     "name": "stderr",
     "output_type": "stream",
     "text": [
      "2023-06-19 11:54:20.777472: I tensorflow/core/common_runtime/executor.cc:1197] [/device:CPU:0] (DEBUG INFO) Executor start aborting (this does not indicate an error and you can ignore this message): INVALID_ARGUMENT: You must feed a value for placeholder tensor 'Placeholder/_0' with dtype int32\n",
      "\t [[{{node Placeholder/_0}}]]\n"
     ]
    },
    {
     "name": "stdout",
     "output_type": "stream",
     "text": [
      "179/179 [==============================] - 5s 30ms/step\n",
      "536/536 [==============================] - 64s 120ms/step - loss: 0.7688 - accuracy: 0.8097 - val_loss: 0.6981 - val_accuracy: 0.8259\n",
      "Epoch 5/32\n",
      "163/536 [========>.....................] - ETA: 22s - loss: 0.7666 - accuracy: 0.8081"
     ]
    },
    {
     "ename": "KeyboardInterrupt",
     "evalue": "",
     "output_type": "error",
     "traceback": [
      "\u001b[0;31m---------------------------------------------------------------------------\u001b[0m",
      "\u001b[0;31mKeyboardInterrupt\u001b[0m                         Traceback (most recent call last)",
      "Cell \u001b[0;32mIn[20], line 4\u001b[0m\n\u001b[1;32m      1\u001b[0m train_gen \u001b[39m=\u001b[39m train_batch_generator\n\u001b[1;32m      2\u001b[0m val_gen \u001b[39m=\u001b[39m val_batch_generator\n\u001b[0;32m----> 4\u001b[0m CNNmodel\u001b[39m.\u001b[39;49mfit(\n\u001b[1;32m      5\u001b[0m     train_gen,\n\u001b[1;32m      6\u001b[0m     epochs\u001b[39m=\u001b[39;49m\u001b[39m32\u001b[39;49m,\n\u001b[1;32m      7\u001b[0m     verbose\u001b[39m=\u001b[39;49m\u001b[39m1\u001b[39;49m,\n\u001b[1;32m      8\u001b[0m     validation_data\u001b[39m=\u001b[39;49mval_gen,\n\u001b[1;32m      9\u001b[0m     callbacks\u001b[39m=\u001b[39;49m[tensorboard_callback, model_checkpoint_callback, cm_callback],\n\u001b[1;32m     10\u001b[0m     class_weight\u001b[39m=\u001b[39;49mclass_weights,\n\u001b[1;32m     11\u001b[0m )\n",
      "File \u001b[0;32m~/miniconda3/envs/birds/lib/python3.9/site-packages/keras/utils/traceback_utils.py:65\u001b[0m, in \u001b[0;36mfilter_traceback.<locals>.error_handler\u001b[0;34m(*args, **kwargs)\u001b[0m\n\u001b[1;32m     63\u001b[0m filtered_tb \u001b[39m=\u001b[39m \u001b[39mNone\u001b[39;00m\n\u001b[1;32m     64\u001b[0m \u001b[39mtry\u001b[39;00m:\n\u001b[0;32m---> 65\u001b[0m     \u001b[39mreturn\u001b[39;00m fn(\u001b[39m*\u001b[39;49margs, \u001b[39m*\u001b[39;49m\u001b[39m*\u001b[39;49mkwargs)\n\u001b[1;32m     66\u001b[0m \u001b[39mexcept\u001b[39;00m \u001b[39mException\u001b[39;00m \u001b[39mas\u001b[39;00m e:\n\u001b[1;32m     67\u001b[0m     filtered_tb \u001b[39m=\u001b[39m _process_traceback_frames(e\u001b[39m.\u001b[39m__traceback__)\n",
      "File \u001b[0;32m~/miniconda3/envs/birds/lib/python3.9/site-packages/keras/engine/training.py:1685\u001b[0m, in \u001b[0;36mModel.fit\u001b[0;34m(self, x, y, batch_size, epochs, verbose, callbacks, validation_split, validation_data, shuffle, class_weight, sample_weight, initial_epoch, steps_per_epoch, validation_steps, validation_batch_size, validation_freq, max_queue_size, workers, use_multiprocessing)\u001b[0m\n\u001b[1;32m   1677\u001b[0m \u001b[39mwith\u001b[39;00m tf\u001b[39m.\u001b[39mprofiler\u001b[39m.\u001b[39mexperimental\u001b[39m.\u001b[39mTrace(\n\u001b[1;32m   1678\u001b[0m     \u001b[39m\"\u001b[39m\u001b[39mtrain\u001b[39m\u001b[39m\"\u001b[39m,\n\u001b[1;32m   1679\u001b[0m     epoch_num\u001b[39m=\u001b[39mepoch,\n\u001b[0;32m   (...)\u001b[0m\n\u001b[1;32m   1682\u001b[0m     _r\u001b[39m=\u001b[39m\u001b[39m1\u001b[39m,\n\u001b[1;32m   1683\u001b[0m ):\n\u001b[1;32m   1684\u001b[0m     callbacks\u001b[39m.\u001b[39mon_train_batch_begin(step)\n\u001b[0;32m-> 1685\u001b[0m     tmp_logs \u001b[39m=\u001b[39m \u001b[39mself\u001b[39;49m\u001b[39m.\u001b[39;49mtrain_function(iterator)\n\u001b[1;32m   1686\u001b[0m     \u001b[39mif\u001b[39;00m data_handler\u001b[39m.\u001b[39mshould_sync:\n\u001b[1;32m   1687\u001b[0m         context\u001b[39m.\u001b[39masync_wait()\n",
      "File \u001b[0;32m~/miniconda3/envs/birds/lib/python3.9/site-packages/tensorflow/python/util/traceback_utils.py:150\u001b[0m, in \u001b[0;36mfilter_traceback.<locals>.error_handler\u001b[0;34m(*args, **kwargs)\u001b[0m\n\u001b[1;32m    148\u001b[0m filtered_tb \u001b[39m=\u001b[39m \u001b[39mNone\u001b[39;00m\n\u001b[1;32m    149\u001b[0m \u001b[39mtry\u001b[39;00m:\n\u001b[0;32m--> 150\u001b[0m   \u001b[39mreturn\u001b[39;00m fn(\u001b[39m*\u001b[39;49margs, \u001b[39m*\u001b[39;49m\u001b[39m*\u001b[39;49mkwargs)\n\u001b[1;32m    151\u001b[0m \u001b[39mexcept\u001b[39;00m \u001b[39mException\u001b[39;00m \u001b[39mas\u001b[39;00m e:\n\u001b[1;32m    152\u001b[0m   filtered_tb \u001b[39m=\u001b[39m _process_traceback_frames(e\u001b[39m.\u001b[39m__traceback__)\n",
      "File \u001b[0;32m~/miniconda3/envs/birds/lib/python3.9/site-packages/tensorflow/python/eager/polymorphic_function/polymorphic_function.py:894\u001b[0m, in \u001b[0;36mFunction.__call__\u001b[0;34m(self, *args, **kwds)\u001b[0m\n\u001b[1;32m    891\u001b[0m compiler \u001b[39m=\u001b[39m \u001b[39m\"\u001b[39m\u001b[39mxla\u001b[39m\u001b[39m\"\u001b[39m \u001b[39mif\u001b[39;00m \u001b[39mself\u001b[39m\u001b[39m.\u001b[39m_jit_compile \u001b[39melse\u001b[39;00m \u001b[39m\"\u001b[39m\u001b[39mnonXla\u001b[39m\u001b[39m\"\u001b[39m\n\u001b[1;32m    893\u001b[0m \u001b[39mwith\u001b[39;00m OptionalXlaContext(\u001b[39mself\u001b[39m\u001b[39m.\u001b[39m_jit_compile):\n\u001b[0;32m--> 894\u001b[0m   result \u001b[39m=\u001b[39m \u001b[39mself\u001b[39;49m\u001b[39m.\u001b[39;49m_call(\u001b[39m*\u001b[39;49margs, \u001b[39m*\u001b[39;49m\u001b[39m*\u001b[39;49mkwds)\n\u001b[1;32m    896\u001b[0m new_tracing_count \u001b[39m=\u001b[39m \u001b[39mself\u001b[39m\u001b[39m.\u001b[39mexperimental_get_tracing_count()\n\u001b[1;32m    897\u001b[0m without_tracing \u001b[39m=\u001b[39m (tracing_count \u001b[39m==\u001b[39m new_tracing_count)\n",
      "File \u001b[0;32m~/miniconda3/envs/birds/lib/python3.9/site-packages/tensorflow/python/eager/polymorphic_function/polymorphic_function.py:926\u001b[0m, in \u001b[0;36mFunction._call\u001b[0;34m(self, *args, **kwds)\u001b[0m\n\u001b[1;32m    923\u001b[0m   \u001b[39mself\u001b[39m\u001b[39m.\u001b[39m_lock\u001b[39m.\u001b[39mrelease()\n\u001b[1;32m    924\u001b[0m   \u001b[39m# In this case we have created variables on the first call, so we run the\u001b[39;00m\n\u001b[1;32m    925\u001b[0m   \u001b[39m# defunned version which is guaranteed to never create variables.\u001b[39;00m\n\u001b[0;32m--> 926\u001b[0m   \u001b[39mreturn\u001b[39;00m \u001b[39mself\u001b[39;49m\u001b[39m.\u001b[39;49m_no_variable_creation_fn(\u001b[39m*\u001b[39;49margs, \u001b[39m*\u001b[39;49m\u001b[39m*\u001b[39;49mkwds)  \u001b[39m# pylint: disable=not-callable\u001b[39;00m\n\u001b[1;32m    927\u001b[0m \u001b[39melif\u001b[39;00m \u001b[39mself\u001b[39m\u001b[39m.\u001b[39m_variable_creation_fn \u001b[39mis\u001b[39;00m \u001b[39mnot\u001b[39;00m \u001b[39mNone\u001b[39;00m:\n\u001b[1;32m    928\u001b[0m   \u001b[39m# Release the lock early so that multiple threads can perform the call\u001b[39;00m\n\u001b[1;32m    929\u001b[0m   \u001b[39m# in parallel.\u001b[39;00m\n\u001b[1;32m    930\u001b[0m   \u001b[39mself\u001b[39m\u001b[39m.\u001b[39m_lock\u001b[39m.\u001b[39mrelease()\n",
      "File \u001b[0;32m~/miniconda3/envs/birds/lib/python3.9/site-packages/tensorflow/python/eager/polymorphic_function/tracing_compiler.py:143\u001b[0m, in \u001b[0;36mTracingCompiler.__call__\u001b[0;34m(self, *args, **kwargs)\u001b[0m\n\u001b[1;32m    140\u001b[0m \u001b[39mwith\u001b[39;00m \u001b[39mself\u001b[39m\u001b[39m.\u001b[39m_lock:\n\u001b[1;32m    141\u001b[0m   (concrete_function,\n\u001b[1;32m    142\u001b[0m    filtered_flat_args) \u001b[39m=\u001b[39m \u001b[39mself\u001b[39m\u001b[39m.\u001b[39m_maybe_define_function(args, kwargs)\n\u001b[0;32m--> 143\u001b[0m \u001b[39mreturn\u001b[39;00m concrete_function\u001b[39m.\u001b[39;49m_call_flat(\n\u001b[1;32m    144\u001b[0m     filtered_flat_args, captured_inputs\u001b[39m=\u001b[39;49mconcrete_function\u001b[39m.\u001b[39;49mcaptured_inputs)\n",
      "File \u001b[0;32m~/miniconda3/envs/birds/lib/python3.9/site-packages/tensorflow/python/eager/polymorphic_function/monomorphic_function.py:1757\u001b[0m, in \u001b[0;36mConcreteFunction._call_flat\u001b[0;34m(self, args, captured_inputs, cancellation_manager)\u001b[0m\n\u001b[1;32m   1753\u001b[0m possible_gradient_type \u001b[39m=\u001b[39m gradients_util\u001b[39m.\u001b[39mPossibleTapeGradientTypes(args)\n\u001b[1;32m   1754\u001b[0m \u001b[39mif\u001b[39;00m (possible_gradient_type \u001b[39m==\u001b[39m gradients_util\u001b[39m.\u001b[39mPOSSIBLE_GRADIENT_TYPES_NONE\n\u001b[1;32m   1755\u001b[0m     \u001b[39mand\u001b[39;00m executing_eagerly):\n\u001b[1;32m   1756\u001b[0m   \u001b[39m# No tape is watching; skip to running the function.\u001b[39;00m\n\u001b[0;32m-> 1757\u001b[0m   \u001b[39mreturn\u001b[39;00m \u001b[39mself\u001b[39m\u001b[39m.\u001b[39m_build_call_outputs(\u001b[39mself\u001b[39;49m\u001b[39m.\u001b[39;49m_inference_function\u001b[39m.\u001b[39;49mcall(\n\u001b[1;32m   1758\u001b[0m       ctx, args, cancellation_manager\u001b[39m=\u001b[39;49mcancellation_manager))\n\u001b[1;32m   1759\u001b[0m forward_backward \u001b[39m=\u001b[39m \u001b[39mself\u001b[39m\u001b[39m.\u001b[39m_select_forward_and_backward_functions(\n\u001b[1;32m   1760\u001b[0m     args,\n\u001b[1;32m   1761\u001b[0m     possible_gradient_type,\n\u001b[1;32m   1762\u001b[0m     executing_eagerly)\n\u001b[1;32m   1763\u001b[0m forward_function, args_with_tangents \u001b[39m=\u001b[39m forward_backward\u001b[39m.\u001b[39mforward()\n",
      "File \u001b[0;32m~/miniconda3/envs/birds/lib/python3.9/site-packages/tensorflow/python/eager/polymorphic_function/monomorphic_function.py:381\u001b[0m, in \u001b[0;36m_EagerDefinedFunction.call\u001b[0;34m(self, ctx, args, cancellation_manager)\u001b[0m\n\u001b[1;32m    379\u001b[0m \u001b[39mwith\u001b[39;00m _InterpolateFunctionError(\u001b[39mself\u001b[39m):\n\u001b[1;32m    380\u001b[0m   \u001b[39mif\u001b[39;00m cancellation_manager \u001b[39mis\u001b[39;00m \u001b[39mNone\u001b[39;00m:\n\u001b[0;32m--> 381\u001b[0m     outputs \u001b[39m=\u001b[39m execute\u001b[39m.\u001b[39;49mexecute(\n\u001b[1;32m    382\u001b[0m         \u001b[39mstr\u001b[39;49m(\u001b[39mself\u001b[39;49m\u001b[39m.\u001b[39;49msignature\u001b[39m.\u001b[39;49mname),\n\u001b[1;32m    383\u001b[0m         num_outputs\u001b[39m=\u001b[39;49m\u001b[39mself\u001b[39;49m\u001b[39m.\u001b[39;49m_num_outputs,\n\u001b[1;32m    384\u001b[0m         inputs\u001b[39m=\u001b[39;49margs,\n\u001b[1;32m    385\u001b[0m         attrs\u001b[39m=\u001b[39;49mattrs,\n\u001b[1;32m    386\u001b[0m         ctx\u001b[39m=\u001b[39;49mctx)\n\u001b[1;32m    387\u001b[0m   \u001b[39melse\u001b[39;00m:\n\u001b[1;32m    388\u001b[0m     outputs \u001b[39m=\u001b[39m execute\u001b[39m.\u001b[39mexecute_with_cancellation(\n\u001b[1;32m    389\u001b[0m         \u001b[39mstr\u001b[39m(\u001b[39mself\u001b[39m\u001b[39m.\u001b[39msignature\u001b[39m.\u001b[39mname),\n\u001b[1;32m    390\u001b[0m         num_outputs\u001b[39m=\u001b[39m\u001b[39mself\u001b[39m\u001b[39m.\u001b[39m_num_outputs,\n\u001b[0;32m   (...)\u001b[0m\n\u001b[1;32m    393\u001b[0m         ctx\u001b[39m=\u001b[39mctx,\n\u001b[1;32m    394\u001b[0m         cancellation_manager\u001b[39m=\u001b[39mcancellation_manager)\n",
      "File \u001b[0;32m~/miniconda3/envs/birds/lib/python3.9/site-packages/tensorflow/python/eager/execute.py:52\u001b[0m, in \u001b[0;36mquick_execute\u001b[0;34m(op_name, num_outputs, inputs, attrs, ctx, name)\u001b[0m\n\u001b[1;32m     50\u001b[0m \u001b[39mtry\u001b[39;00m:\n\u001b[1;32m     51\u001b[0m   ctx\u001b[39m.\u001b[39mensure_initialized()\n\u001b[0;32m---> 52\u001b[0m   tensors \u001b[39m=\u001b[39m pywrap_tfe\u001b[39m.\u001b[39;49mTFE_Py_Execute(ctx\u001b[39m.\u001b[39;49m_handle, device_name, op_name,\n\u001b[1;32m     53\u001b[0m                                       inputs, attrs, num_outputs)\n\u001b[1;32m     54\u001b[0m \u001b[39mexcept\u001b[39;00m core\u001b[39m.\u001b[39m_NotOkStatusException \u001b[39mas\u001b[39;00m e:\n\u001b[1;32m     55\u001b[0m   \u001b[39mif\u001b[39;00m name \u001b[39mis\u001b[39;00m \u001b[39mnot\u001b[39;00m \u001b[39mNone\u001b[39;00m:\n",
      "\u001b[0;31mKeyboardInterrupt\u001b[0m: "
     ]
    }
   ],
   "source": [
    "train_gen = train_batch_generator\n",
    "val_gen = val_batch_generator\n",
    "\n",
    "CNNmodel.fit(\n",
    "    train_gen,\n",
    "    epochs=32,\n",
    "    verbose=1,\n",
    "    validation_data=val_gen,\n",
    "    callbacks=[tensorboard_callback, model_checkpoint_callback, cm_callback],\n",
    "    class_weight=class_weights,\n",
    ")"
   ]
  },
  {
   "cell_type": "markdown",
   "id": "f35a8be8",
   "metadata": {},
   "source": [
    "## Test the model"
   ]
  },
  {
   "cell_type": "code",
   "execution_count": null,
   "id": "2541822e",
   "metadata": {},
   "outputs": [],
   "source": [
    "conf_matrix = generate_cm(test_batch_generator)\n",
    "plt.show()"
   ]
  },
  {
   "cell_type": "code",
   "execution_count": null,
   "id": "53ac7727",
   "metadata": {},
   "outputs": [],
   "source": [
    "# Convert the model.\n",
    "\n",
    "\n",
    "converter = tf.lite.TFLiteConverter.from_keras_model(CNNmodel)\n",
    "converter.target_spec.supported_ops = [tf.lite.OpsSet.TFLITE_BUILTINS, tf.lite.OpsSet.SELECT_TF_OPS]\n",
    "converter.inference_input_type = tf.float32\n",
    "converter.inference_output_type = tf.float32\n",
    "converter.optimizations = {tf.lite.Optimize.DEFAULT}\n",
    "# set too support only float32 input and output\n",
    "converter.target_spec.supported_types = [tf.float32]\n",
    "\n",
    "\n",
    "\n",
    "tflite_model = converter.convert()\n",
    "# print size of model\n",
    "print(\"Size of model: \", len(tflite_model) / 1024, \" kb\")\n",
    "\n",
    "with open(basePath+'model.tflite', 'wb') as f:\n",
    "  f.write(tflite_model)"
   ]
  }
 ],
 "metadata": {
  "kernelspec": {
   "display_name": "Python 3 (ipykernel)",
   "language": "python",
   "name": "python3"
  },
  "language_info": {
   "codemirror_mode": {
    "name": "ipython",
    "version": 3
   },
   "file_extension": ".py",
   "mimetype": "text/x-python",
   "name": "python",
   "nbconvert_exporter": "python",
   "pygments_lexer": "ipython3",
   "version": "3.9.16"
  }
 },
 "nbformat": 4,
 "nbformat_minor": 5
}
