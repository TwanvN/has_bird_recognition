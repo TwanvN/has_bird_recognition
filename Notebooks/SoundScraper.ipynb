{
 "cells": [
  {
   "cell_type": "code",
   "execution_count": 39,
   "id": "00f66feb",
   "metadata": {},
   "outputs": [],
   "source": [
    "import requests\n",
    "import re\n",
    "import os\n",
    "import math\n",
    "import aiohttp\n",
    "import asyncio\n",
    "from tqdm.notebook import tqdm"
   ]
  },
  {
   "attachments": {},
   "cell_type": "markdown",
   "id": "99dcd323",
   "metadata": {},
   "source": [
    "\n",
    "# sources used\n",
    "GBIF.org (11 May 2023) GBIF Occurrence Download https://doi.org/10.15468/dl.m42ea5 "
   ]
  },
  {
   "cell_type": "code",
   "execution_count": 40,
   "id": "99020e86",
   "metadata": {},
   "outputs": [],
   "source": [
    "def Find(string):\n",
    " \n",
    "    # findall() has been used\n",
    "    # with valid conditions for urls in string\n",
    "    regex = r\"(?i)\\b((?:https?://|www\\d{0,3}[.]|[a-z0-9.\\-]+[.][a-z]{2,4}/)(?:[^\\s()<>]+|\\(([^\\s()<>]+|(\\([^\\s()<>]+\\)))*\\))+(?:\\(([^\\s()<>]+|(\\([^\\s()<>]+\\)))*\\)|[^\\s`!()\\[\\]{};:'\\\".,<>?«»“”‘’]))\"\n",
    "    url = re.findall(regex, string)\n",
    "    return [x[0] for x in url]"
   ]
  },
  {
   "cell_type": "code",
   "execution_count": 41,
   "id": "7baa2e92",
   "metadata": {},
   "outputs": [],
   "source": [
    "async def download_and_save_audio(audio_url,filepath,session):\n",
    "    if os.path.exists(filepath):\n",
    "        return \"Path Already Exist\\t \" + filepath\n",
    "    try:\n",
    "        async with session.get(audio_url,ssl=False) as resp:\n",
    "            open(filepath, \"wb\").write(await resp.read())\n",
    "            return \"finished download for\\t\" + audio_url\n",
    "    except Exception as e: \n",
    "        return \"got error from downloading: \\t\" + audio_url + \"\\n error: \" + str(e)\n",
    "    "
   ]
  },
  {
   "cell_type": "code",
   "execution_count": 42,
   "id": "851f4019",
   "metadata": {},
   "outputs": [],
   "source": [
    "async def download(lines,folder):\n",
    "    length = len(lines)    \n",
    "    downloads = []\n",
    "    connector = aiohttp.TCPConnector(limit_per_host=5)\n",
    "    async with aiohttp.ClientSession(connector=connector) as session:\n",
    "        for i in range(length):\n",
    "            line = lines[i]\n",
    "            url_list = Find(line)\n",
    "            if not url_list:\n",
    "                continue\n",
    "            audio_url = url_list[0]\n",
    "            file_array = audio_url.rsplit('/', 1)[-1].split('.', 1)\n",
    "            # check if file_array contains at least 2 elements\n",
    "            if len(file_array) < 2:\n",
    "                continue\n",
    "            \n",
    "            file_name = file_array[0]\n",
    "            file_type = file_array[1]\n",
    "            audio_file_path = folder + '/geluiden/' + file_name + '.' + file_type \n",
    "            if  file_type == \"mp3\" or file_type == \"wav\":\n",
    "                downloads.append(download_and_save_audio(audio_url,audio_file_path,session)) \n",
    "        for f in tqdm(asyncio.as_completed(downloads), total=len(downloads)):\n",
    "            result = await f\n",
    "#             tqdm.write(result)\n",
    "            "
   ]
  },
  {
   "cell_type": "code",
   "execution_count": 43,
   "id": "b746923b",
   "metadata": {
    "scrolled": true
   },
   "outputs": [
    {
     "name": "stdout",
     "output_type": "stream",
     "text": [
      "['/home/birdo/MachineLearning/Vogelgeluiden/Fringilla Coelebs Linnaeus']\n",
      "/home/birdo/MachineLearning/Vogelgeluiden/Fringilla Coelebs Linnaeus\n"
     ]
    },
    {
     "data": {
      "application/vnd.jupyter.widget-view+json": {
       "model_id": "797892553e9841009fd5c2400c0364ae",
       "version_major": 2,
       "version_minor": 0
      },
      "text/plain": [
       "  0%|          | 0/6264 [00:00<?, ?it/s]"
      ]
     },
     "metadata": {},
     "output_type": "display_data"
    }
   ],
   "source": [
    "folder_path = \"/home/birdo/MachineLearning/Vogelgeluiden/\"\n",
    "# subfolders = [ f.path for f in os.scandir(folder_path) if f.is_dir() ]\n",
    "subfolders = ['/home/birdo/MachineLearning/Vogelgeluiden/Fringilla Coelebs Linnaeus']\n",
    "print(subfolders)\n",
    "\n",
    "fulldatasetpath = ''\n",
    "\n",
    "for folder in subfolders:\n",
    "# Iterate through each sound file and extract the features \n",
    "#     print(folder)\n",
    "    downloadsource = folder + '/multimedia.txt'\n",
    "    file = open(downloadsource, encoding=\"utf8\")\n",
    "    lines = file.readlines()\n",
    "    tqdm.write(folder)\n",
    "    await download(lines,folder)\n",
    "    "
   ]
  }
 ],
 "metadata": {
  "kernelspec": {
   "display_name": "Python 3 (ipykernel)",
   "language": "python",
   "name": "python3"
  },
  "language_info": {
   "codemirror_mode": {
    "name": "ipython",
    "version": 3
   },
   "file_extension": ".py",
   "mimetype": "text/x-python",
   "name": "python",
   "nbconvert_exporter": "python",
   "pygments_lexer": "ipython3",
   "version": "3.11.2"
  }
 },
 "nbformat": 4,
 "nbformat_minor": 5
}
