{
 "cells": [
  {
   "cell_type": "code",
   "execution_count": 1,
   "id": "00f66feb",
   "metadata": {},
   "outputs": [],
   "source": [
    "import requests\n",
    "import re\n",
    "import os\n",
    "import math\n",
    "import aiohttp\n",
    "import asyncio\n",
    "from tqdm.notebook import tqdm"
   ]
  },
  {
   "attachments": {},
   "cell_type": "markdown",
   "id": "99dcd323",
   "metadata": {},
   "source": [
    "\n",
    "# sources used\n",
    "GBIF.org (11 May 2023) GBIF Occurrence Download https://doi.org/10.15468/dl.m42ea5 "
   ]
  },
  {
   "cell_type": "code",
   "execution_count": 2,
   "id": "99020e86",
   "metadata": {},
   "outputs": [],
   "source": [
    "def Find(string):\n",
    " \n",
    "    # findall() has been used\n",
    "    # with valid conditions for urls in string\n",
    "    regex = r\"(?i)\\b((?:https?://|www\\d{0,3}[.]|[a-z0-9.\\-]+[.][a-z]{2,4}/)(?:[^\\s()<>]+|\\(([^\\s()<>]+|(\\([^\\s()<>]+\\)))*\\))+(?:\\(([^\\s()<>]+|(\\([^\\s()<>]+\\)))*\\)|[^\\s`!()\\[\\]{};:'\\\".,<>?«»“”‘’]))\"\n",
    "    url = re.findall(regex, string)\n",
    "    return [x[0] for x in url]"
   ]
  },
  {
   "cell_type": "code",
   "execution_count": 3,
   "id": "7baa2e92",
   "metadata": {},
   "outputs": [],
   "source": [
    "async def download_and_save_audio(audio_url,filepath,session):\n",
    "    if os.path.exists(filepath):\n",
    "        return \"Path Already Exist\\t \" + filepath\n",
    "    try:\n",
    "        async with session.get(audio_url,ssl=False) as resp:\n",
    "            open(filepath, \"wb\").write(await resp.read())\n",
    "            return \"finished download for\\t\" + audio_url\n",
    "    except Exception as e: \n",
    "        return \"got error from downloading: \\t\" + audio_url + \"\\n error: \" + str(e)\n",
    "    "
   ]
  },
  {
   "cell_type": "code",
   "execution_count": 4,
   "id": "851f4019",
   "metadata": {},
   "outputs": [],
   "source": [
    "async def download(lines,folder):\n",
    "    length = len(lines)    \n",
    "    downloads = []\n",
    "    connector = aiohttp.TCPConnector(limit_per_host=5)\n",
    "    async with aiohttp.ClientSession(connector=connector) as session:\n",
    "        for i in range(length):\n",
    "            line = lines[i]\n",
    "            url_list = Find(line)\n",
    "            if not url_list:\n",
    "                continue\n",
    "            audio_url = url_list[0]\n",
    "            # remove any query parameters if 'biocase.zfmk.de' not in url\n",
    "            if 'biocase.zfmk.de' not in audio_url:\n",
    "                audio_url = audio_url.split('?', 1)[0]\n",
    "                # split the url into file name and file type\n",
    "                file_array = audio_url.rsplit('/', 1)[-1].split('.', 1)\n",
    "            else:\n",
    "                file_array = audio_url.rsplit('guid=', 1)[-1].split('.', 1)\n",
    "\n",
    "            \n",
    "            # check if file_array contains at least 2 elements\n",
    "            if len(file_array) < 2:\n",
    "                # print failed url\n",
    "                print(\"failed url: \" + audio_url)\n",
    "                continue\n",
    "            \n",
    "            file_name = file_array[0]\n",
    "            file_type = file_array[1]\n",
    "            audio_file_path = folder + '/geluiden/' + file_name + '.' + file_type \n",
    "            if  file_type == \"mp3\" or file_type == \"wav\" or file_type == \"ogg\" or file_type == \"flac\" or file_type == \"m4a\":\n",
    "                downloads.append(download_and_save_audio(audio_url,audio_file_path,session)) \n",
    "        for f in tqdm(asyncio.as_completed(downloads), total=len(downloads)):\n",
    "            result = await f\n",
    "#             tqdm.write(result)\n",
    "            "
   ]
  },
  {
   "cell_type": "code",
   "execution_count": 5,
   "id": "b746923b",
   "metadata": {
    "scrolled": true
   },
   "outputs": [
    {
     "name": "stdout",
     "output_type": "stream",
     "text": [
      "['/home/birdo/MachineLearning/Vogelgeluiden/Turdus Merula Linnaeus', '/home/birdo/MachineLearning/Vogelgeluiden/Anas Platyrhynchos Linnaeus', '/home/birdo/MachineLearning/Vogelgeluiden/Phylloscopus Trochilus', '/home/birdo/MachineLearning/Vogelgeluiden/Sturnus Vulgaris Linnaeus', '/home/birdo/MachineLearning/Vogelgeluiden/Phylloscopus Collybita', '/home/birdo/MachineLearning/Vogelgeluiden/Parus Major Linnaeus', '/home/birdo/MachineLearning/Vogelgeluiden/Columba Palumbus Linnaeus', '/home/birdo/MachineLearning/Vogelgeluiden/Troglodytes Troglodytes', '/home/birdo/MachineLearning/Vogelgeluiden/Passer Domesticus', '/home/birdo/MachineLearning/Vogelgeluiden/Fringilla Coelebs Linnaeus']\n",
      "/home/birdo/MachineLearning/Vogelgeluiden/Turdus Merula Linnaeus\n"
     ]
    },
    {
     "data": {
      "application/vnd.jupyter.widget-view+json": {
       "model_id": "6f7a8604206e4dfe80a70fac8f71c3ac",
       "version_major": 2,
       "version_minor": 0
      },
      "text/plain": [
       "  0%|          | 0/2549 [00:00<?, ?it/s]"
      ]
     },
     "metadata": {},
     "output_type": "display_data"
    },
    {
     "name": "stdout",
     "output_type": "stream",
     "text": [
      "/home/birdo/MachineLearning/Vogelgeluiden/Anas Platyrhynchos Linnaeus\n"
     ]
    },
    {
     "data": {
      "application/vnd.jupyter.widget-view+json": {
       "model_id": "5c0984a8afe5441298f38160e60b85dd",
       "version_major": 2,
       "version_minor": 0
      },
      "text/plain": [
       "  0%|          | 0/1415 [00:00<?, ?it/s]"
      ]
     },
     "metadata": {},
     "output_type": "display_data"
    },
    {
     "name": "stdout",
     "output_type": "stream",
     "text": [
      "/home/birdo/MachineLearning/Vogelgeluiden/Phylloscopus Trochilus\n"
     ]
    },
    {
     "data": {
      "application/vnd.jupyter.widget-view+json": {
       "model_id": "e2adf6f178d9407bb99cd9504b73f725",
       "version_major": 2,
       "version_minor": 0
      },
      "text/plain": [
       "  0%|          | 0/2167 [00:00<?, ?it/s]"
      ]
     },
     "metadata": {},
     "output_type": "display_data"
    },
    {
     "name": "stdout",
     "output_type": "stream",
     "text": [
      "/home/birdo/MachineLearning/Vogelgeluiden/Sturnus Vulgaris Linnaeus\n"
     ]
    },
    {
     "data": {
      "application/vnd.jupyter.widget-view+json": {
       "model_id": "240622d2b39b44c89dada017eb8e1d10",
       "version_major": 2,
       "version_minor": 0
      },
      "text/plain": [
       "  0%|          | 0/2159 [00:00<?, ?it/s]"
      ]
     },
     "metadata": {},
     "output_type": "display_data"
    },
    {
     "name": "stdout",
     "output_type": "stream",
     "text": [
      "/home/birdo/MachineLearning/Vogelgeluiden/Phylloscopus Collybita\n"
     ]
    },
    {
     "data": {
      "application/vnd.jupyter.widget-view+json": {
       "model_id": "d6f4163e5b524213b706aa5d8a47ce68",
       "version_major": 2,
       "version_minor": 0
      },
      "text/plain": [
       "  0%|          | 0/2219 [00:00<?, ?it/s]"
      ]
     },
     "metadata": {},
     "output_type": "display_data"
    },
    {
     "name": "stdout",
     "output_type": "stream",
     "text": [
      "/home/birdo/MachineLearning/Vogelgeluiden/Parus Major Linnaeus\n"
     ]
    },
    {
     "data": {
      "application/vnd.jupyter.widget-view+json": {
       "model_id": "cd0478bcf01840d393edba6adc3a00ff",
       "version_major": 2,
       "version_minor": 0
      },
      "text/plain": [
       "  0%|          | 0/2075 [00:00<?, ?it/s]"
      ]
     },
     "metadata": {},
     "output_type": "display_data"
    },
    {
     "name": "stdout",
     "output_type": "stream",
     "text": [
      "/home/birdo/MachineLearning/Vogelgeluiden/Columba Palumbus Linnaeus\n",
      "failed url: https://xeno-canto.org/sounds/uploaded/VHVQLSCSXO/XC798562-R%C3%B6st_282-1-1\n"
     ]
    },
    {
     "data": {
      "application/vnd.jupyter.widget-view+json": {
       "model_id": "9761a19e6efc44eb9e53a54ccd9064a7",
       "version_major": 2,
       "version_minor": 0
      },
      "text/plain": [
       "  0%|          | 0/889 [00:00<?, ?it/s]"
      ]
     },
     "metadata": {},
     "output_type": "display_data"
    },
    {
     "name": "stdout",
     "output_type": "stream",
     "text": [
      "/home/birdo/MachineLearning/Vogelgeluiden/Troglodytes Troglodytes\n"
     ]
    },
    {
     "data": {
      "application/vnd.jupyter.widget-view+json": {
       "model_id": "e6c97c651a9043969d5858274bf956ed",
       "version_major": 2,
       "version_minor": 0
      },
      "text/plain": [
       "  0%|          | 0/2301 [00:00<?, ?it/s]"
      ]
     },
     "metadata": {},
     "output_type": "display_data"
    },
    {
     "name": "stdout",
     "output_type": "stream",
     "text": [
      "/home/birdo/MachineLearning/Vogelgeluiden/Passer Domesticus\n",
      "failed url: http://arctos.database.museum/media/10305516\n",
      "failed url: http://arctos.database.museum/media/10305512\n",
      "failed url: http://arctos.database.museum/media/10305463\n",
      "failed url: http://biocase.zfmk.de/sounds\n",
      "failed url: http://biocase.zfmk.de/sounds\n",
      "failed url: http://biocase.zfmk.de/sounds\n",
      "failed url: http://biocase.zfmk.de/sounds\n",
      "failed url: http://biocase.zfmk.de/sounds\n",
      "failed url: http://biocase.zfmk.de/sounds\n",
      "failed url: http://biocase.zfmk.de/sounds\n",
      "failed url: http://biocase.zfmk.de/sounds\n",
      "failed url: http://biocase.zfmk.de/sounds\n",
      "failed url: http://biocase.zfmk.de/sounds\n",
      "failed url: http://biocase.zfmk.de/sounds\n",
      "failed url: http://biocase.zfmk.de/sounds\n",
      "failed url: http://biocase.zfmk.de/sounds\n",
      "failed url: http://biocase.zfmk.de/sounds\n",
      "failed url: http://biocase.zfmk.de/sounds\n",
      "failed url: http://biocase.zfmk.de/sounds\n",
      "failed url: http://biocase.zfmk.de/sounds\n",
      "failed url: http://biocase.zfmk.de/sounds\n",
      "failed url: http://biocase.zfmk.de/sounds\n",
      "failed url: http://biocase.zfmk.de/sounds\n",
      "failed url: http://biocase.zfmk.de/sounds\n",
      "failed url: http://biocase.zfmk.de/sounds\n",
      "failed url: http://biocase.zfmk.de/sounds\n",
      "failed url: http://biocase.zfmk.de/sounds\n",
      "failed url: http://biocase.zfmk.de/sounds\n",
      "failed url: http://biocase.zfmk.de/sounds\n",
      "failed url: http://biocase.zfmk.de/sounds\n"
     ]
    },
    {
     "data": {
      "application/vnd.jupyter.widget-view+json": {
       "model_id": "9fcf9c55925742cfb880992e3d8b2e9b",
       "version_major": 2,
       "version_minor": 0
      },
      "text/plain": [
       "  0%|          | 0/4964 [00:00<?, ?it/s]"
      ]
     },
     "metadata": {},
     "output_type": "display_data"
    },
    {
     "name": "stdout",
     "output_type": "stream",
     "text": [
      "/home/birdo/MachineLearning/Vogelgeluiden/Fringilla Coelebs Linnaeus\n",
      "failed url: http://biocase.zfmk.de/sounds\n",
      "failed url: http://biocase.zfmk.de/sounds\n",
      "failed url: http://biocase.zfmk.de/sounds\n",
      "failed url: http://biocase.zfmk.de/sounds\n",
      "failed url: http://biocase.zfmk.de/sounds\n",
      "failed url: http://biocase.zfmk.de/sounds\n",
      "failed url: http://biocase.zfmk.de/sounds\n",
      "failed url: http://biocase.zfmk.de/sounds\n",
      "failed url: http://biocase.zfmk.de/sounds\n",
      "failed url: http://biocase.zfmk.de/sounds\n",
      "failed url: http://biocase.zfmk.de/sounds\n",
      "failed url: http://biocase.zfmk.de/sounds\n"
     ]
    },
    {
     "data": {
      "application/vnd.jupyter.widget-view+json": {
       "model_id": "24839df077c64875ba8eff85431e1174",
       "version_major": 2,
       "version_minor": 0
      },
      "text/plain": [
       "  0%|          | 0/9549 [00:00<?, ?it/s]"
      ]
     },
     "metadata": {},
     "output_type": "display_data"
    }
   ],
   "source": [
    "folder_path = \"/home/birdo/MachineLearning/Vogelgeluiden/\"\n",
    "subfolders = [ f.path for f in os.scandir(folder_path) if f.is_dir() ]\n",
    "# subfolders = ['/home/birdo/MachineLearning/Vogelgeluiden/Fringilla Coelebs Linnaeus']\n",
    "# remove 'no bird' from the subfolders\n",
    "subfolders = [x for x in subfolders if not x.endswith('no bird')]\n",
    "\n",
    "print(subfolders)\n",
    "\n",
    "fulldatasetpath = ''\n",
    "\n",
    "for folder in subfolders:\n",
    "# Iterate through each sound file and extract the features \n",
    "#     print(folder)\n",
    "    downloadsource = folder + '/multimedia.txt'\n",
    "    file = open(downloadsource, encoding=\"utf8\")\n",
    "    lines = file.readlines()\n",
    "    tqdm.write(folder)\n",
    "    await download(lines,folder)\n",
    "    "
   ]
  }
 ],
 "metadata": {
  "kernelspec": {
   "display_name": "Python 3 (ipykernel)",
   "language": "python",
   "name": "python3"
  },
  "language_info": {
   "codemirror_mode": {
    "name": "ipython",
    "version": 3
   },
   "file_extension": ".py",
   "mimetype": "text/x-python",
   "name": "python",
   "nbconvert_exporter": "python",
   "pygments_lexer": "ipython3",
   "version": "3.9.16"
  }
 },
 "nbformat": 4,
 "nbformat_minor": 5
}
